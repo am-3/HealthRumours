{
 "cells": [
  {
   "cell_type": "code",
   "execution_count": null,
   "id": "a42e27d5",
   "metadata": {},
   "outputs": [],
   "source": [
    "#install the dependencies before executing code\n",
    "!pip install pandas\n",
    "!pip install numpy\n",
    "!pip install spacy\n",
    "!pip install pickle\n",
    "!python -m spacy download en_core_web_sm\n"
   ]
  },
  {
   "cell_type": "code",
   "execution_count": null,
   "id": "108f443a",
   "metadata": {},
   "outputs": [],
   "source": [
    "#import the required libraries\n",
    "import pandas\n",
    "import numpy\n",
    "import spacy\n",
    "import pickle\n",
    "import re\n"
   ]
  },
  {
   "cell_type": "code",
   "execution_count": null,
   "id": "b5513124",
   "metadata": {},
   "outputs": [],
   "source": [
    "#initialization of spacy pipeline\n",
    "nlp = spacy.load(\"en_core_web_sm\")"
   ]
  },
  {
   "cell_type": "code",
   "execution_count": null,
   "id": "3d18e445",
   "metadata": {},
   "outputs": [],
   "source": [
    "#preprocessing function to remove stopwords punctuations and coverting word into lemma form \n",
    "def preprocessing(text) :\n",
    "    try :\n",
    "        text = text.lower()\n",
    "        doc = nlp(text)\n",
    "        filtered_tokens = []\n",
    "\n",
    "        for token in doc:\n",
    "            if token.is_stop or token.is_punct :\n",
    "                continue\n",
    "            else:\n",
    "                filtered_tokens.append(token.lemma_)\n",
    "        preprocessed_text = ' '.join(filtered_tokens)\n",
    "        preprocessed_text = filtered_text.replace('\\n', '').replace('\\r', '')\n",
    "        return preprocessed_text\n",
    "    \n",
    "    except Exeception as e :\n",
    "        print(f\"Error: {e}\")\n",
    "    \n",
    "\n",
    "        "
   ]
  },
  {
   "cell_type": "code",
   "execution_count": null,
   "id": "13367509",
   "metadata": {},
   "outputs": [],
   "source": [
    "\n",
    "def textClassification(text) :\n",
    "    try :\n",
    "        preprocessed_text=preprocessing(text)\n",
    "\n",
    "        tfid=pickle.load(open(\"F:/icssr/backend/Backend/myapp/tfid_vectorizer.pkl\",\"rb\"))\n",
    "        test=tfid.transform([preprocessed_text])\n",
    "        model=pickle.load(open(\"F:/icssr/backend/Backend/myapp/rfcmodel.pkl\",\"rb\"))\n",
    "        result=model.predict(test)[0]\n",
    "        return result\n",
    "    except Exeception as e :\n",
    "        print(f\"Error: {e}\")"
   ]
  },
  {
   "cell_type": "code",
   "execution_count": null,
   "id": "c872da60",
   "metadata": {},
   "outputs": [],
   "source": [
    "# output of text classification \n",
    "\n",
    "# 0 represents health related content\n",
    "# 1 represents news\n",
    "# 2 represents satirical news"
   ]
  }
 ],
 "metadata": {
  "kernelspec": {
   "display_name": "Python 3 (ipykernel)",
   "language": "python",
   "name": "python3"
  },
  "language_info": {
   "codemirror_mode": {
    "name": "ipython",
    "version": 3
   },
   "file_extension": ".py",
   "mimetype": "text/x-python",
   "name": "python",
   "nbconvert_exporter": "python",
   "pygments_lexer": "ipython3",
   "version": "3.10.4"
  }
 },
 "nbformat": 4,
 "nbformat_minor": 5
}
