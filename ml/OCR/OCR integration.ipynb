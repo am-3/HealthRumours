{
 "cells": [
  {
   "cell_type": "code",
   "execution_count": null,
   "id": "4141507e",
   "metadata": {},
   "outputs": [],
   "source": [
    "#install the dependencies before executing code\n",
    "!pip install urllib\n",
    "!pip install easyocr"
   ]
  },
  {
   "cell_type": "code",
   "execution_count": null,
   "id": "0ce3fde7",
   "metadata": {},
   "outputs": [],
   "source": [
    "#import the required libraries\n",
    "import urllib.request \n",
    "import easyocr\n"
   ]
  },
  {
   "cell_type": "code",
   "execution_count": null,
   "id": "68b592eb",
   "metadata": {},
   "outputs": [],
   "source": [
    "#initiazating easy ocr with interest language english\n",
    "reader=easyocr.Reader([\"en\"])"
   ]
  },
  {
   "cell_type": "code",
   "execution_count": null,
   "id": "d3f5effc",
   "metadata": {},
   "outputs": [],
   "source": [
    "#to download image from given url and store in local system\n",
    "def downloadImage(image_url) :\n",
    "    try :\n",
    "        format = image_url.split('.')[-1]\n",
    "            list_of_formats = [\"jpeg\",\"jpg\",\"png\",\"jfif\"]\n",
    "            for f in list_of_formats:\n",
    "                if format==f:\n",
    "                    f = \"image.\"+f\n",
    "                    urllib.request.urlretrieve(image_url,f)\n",
    "                    break\n",
    "            else:\n",
    "                urllib.request.urlretrieve(image_url,\"image.jpeg\")\n",
    "    except Exeception as e :\n",
    "        print(f\"Error: {e}\")"
   ]
  },
  {
   "cell_type": "code",
   "execution_count": null,
   "id": "47336061",
   "metadata": {},
   "outputs": [],
   "source": [
    "#to retrive text present in the image \n",
    "def getTextFromImage(image_url) :\n",
    "    try :\n",
    "        downloadImage(image_url)\n",
    "         result = reader.readtext('temp.jpeg')\n",
    "            text=[i[1] for i in result]\n",
    "            return ' '.join(text) \n",
    "    except Exception as e:\n",
    "        return ''\n",
    "    "
   ]
  }
 ],
 "metadata": {
  "kernelspec": {
   "display_name": "Python 3 (ipykernel)",
   "language": "python",
   "name": "python3"
  },
  "language_info": {
   "codemirror_mode": {
    "name": "ipython",
    "version": 3
   },
   "file_extension": ".py",
   "mimetype": "text/x-python",
   "name": "python",
   "nbconvert_exporter": "python",
   "pygments_lexer": "ipython3",
   "version": "3.10.4"
  }
 },
 "nbformat": 4,
 "nbformat_minor": 5
}
